{
 "cells": [
  {
   "cell_type": "code",
   "execution_count": 1,
   "metadata": {},
   "outputs": [],
   "source": [
    "# Import pandas, numpy, and datetime\n",
    "import pandas as pd\n",
    "import numpy as np\n",
    "import datetime as dt"
   ]
  },
  {
   "cell_type": "code",
   "execution_count": 9,
   "metadata": {},
   "outputs": [],
   "source": [
    "# Import ggplot\n",
    "from plotnine import ggplot, aes, geom_histogram"
   ]
  },
  {
   "cell_type": "code",
   "execution_count": 8,
   "metadata": {},
   "outputs": [
    {
     "ename": "ImportError",
     "evalue": "cannot import name 'load_and_clean_cdl_data' from 'setup.setup' (c:\\Users\\David Harler Jr\\OneDrive\\Desktop\\dataClass\\06-cod-analysis\\2024.04.10 CDL PrizePicks Betting\\cdl_prizepicks_betting\\cdl-betting-app-v02\\setup\\setup.py)",
     "output_type": "error",
     "traceback": [
      "\u001b[1;31m---------------------------------------------------------------------------\u001b[0m",
      "\u001b[1;31mImportError\u001b[0m                               Traceback (most recent call last)",
      "Cell \u001b[1;32mIn[8], line 2\u001b[0m\n\u001b[0;32m      1\u001b[0m \u001b[38;5;66;03m# Import setup\u001b[39;00m\n\u001b[1;32m----> 2\u001b[0m \u001b[38;5;28;01mfrom\u001b[39;00m \u001b[38;5;21;01msetup\u001b[39;00m\u001b[38;5;21;01m.\u001b[39;00m\u001b[38;5;21;01msetup\u001b[39;00m \u001b[38;5;28;01mimport\u001b[39;00m load_and_clean_cdl_data\n",
      "\u001b[1;31mImportError\u001b[0m: cannot import name 'load_and_clean_cdl_data' from 'setup.setup' (c:\\Users\\David Harler Jr\\OneDrive\\Desktop\\dataClass\\06-cod-analysis\\2024.04.10 CDL PrizePicks Betting\\cdl_prizepicks_betting\\cdl-betting-app-v02\\setup\\setup.py)"
     ]
    }
   ],
   "source": [
    "# Import setup\n",
    "from setup.setup import load_and_clean_cdl_data"
   ]
  },
  {
   "cell_type": "code",
   "execution_count": 2,
   "metadata": {},
   "outputs": [],
   "source": [
    "# Dictionary of color scales by gamemode \n",
    "gamemode_color_scales : {\n",
    "  \"Hardpoint\": [\"red\", \"orange\", \"green\", \"blue\", \"purple\"],\n",
    "  \"Search & Destroy\": [\"red\", \"orange\", \"green\", \"blue\", \"purple\"],\n",
    "  \"Control\": [\"red\", \"green\", \"blue\"]\n",
    "}"
   ]
  },
  {
   "cell_type": "code",
   "execution_count": 7,
   "metadata": {},
   "outputs": [],
   "source": [
    "# Dictionary of colors by map & mode \n",
    "map_and_mode_colors = {\n",
    "  \"Hardpoint\" : {\n",
    "    \"Invasion\" : \"red\", \n",
    "    \"Karachi\" : \"orange\",\n",
    "    \"Rio\" : \"green\",\n",
    "    \"Skidrow\" : \"blue\",\n",
    "    \"Sub Base\" : \"purple\"\n",
    "  } ,\n",
    "  \"Search & Destroy\" : {\n",
    "    \"Highrise\" : \"red\", \n",
    "    \"Invasion\" : \"orange\",\n",
    "    \"Karachi\" : \"green\", \n",
    "    \"Rio\" : \"blue\",\n",
    "    \"Terminal\" : \"purple\"\n",
    "  },\n",
    "  \"Control\" : {\n",
    "    \"Highrise\" : \"red\", \n",
    "    \"Invasion\" : \"green\", \n",
    "    \"Karachi\" : \"blue\"\n",
    "  }\n",
    "}"
   ]
  },
  {
   "cell_type": "code",
   "execution_count": null,
   "metadata": {},
   "outputs": [],
   "source": [
    "# Score Differentials by Map & Mode\n",
    "ggplot(\n",
    "    \n",
    ")"
   ]
  },
  {
   "cell_type": "code",
   "execution_count": 7,
   "metadata": {},
   "outputs": [
    {
     "ename": "AttributeError",
     "evalue": "module 'setup.setup' has no attribute 'load_and_clean_cdl_data'",
     "output_type": "error",
     "traceback": [
      "\u001b[1;31m---------------------------------------------------------------------------\u001b[0m",
      "\u001b[1;31mAttributeError\u001b[0m                            Traceback (most recent call last)",
      "Cell \u001b[1;32mIn[7], line 1\u001b[0m\n\u001b[1;32m----> 1\u001b[0m cdlDF \u001b[38;5;241m=\u001b[39m setup\u001b[38;5;241m.\u001b[39mload_and_clean_cdl_data()\n",
      "\u001b[1;31mAttributeError\u001b[0m: module 'setup.setup' has no attribute 'load_and_clean_cdl_data'"
     ]
    }
   ],
   "source": [
    "cdlDF = setup.load_and_clean_cdl_data()"
   ]
  }
 ],
 "metadata": {
  "kernelspec": {
   "display_name": "PythonData",
   "language": "python",
   "name": "python3"
  },
  "language_info": {
   "codemirror_mode": {
    "name": "ipython",
    "version": 3
   },
   "file_extension": ".py",
   "mimetype": "text/x-python",
   "name": "python",
   "nbconvert_exporter": "python",
   "pygments_lexer": "ipython3",
   "version": "3.11.7"
  }
 },
 "nbformat": 4,
 "nbformat_minor": 2
}
